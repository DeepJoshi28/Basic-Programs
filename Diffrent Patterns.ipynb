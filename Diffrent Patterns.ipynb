{
 "cells": [
  {
   "cell_type": "code",
   "execution_count": 1,
   "metadata": {},
   "outputs": [
    {
     "name": "stdout",
     "output_type": "stream",
     "text": [
      "Enter the number:5\n",
      "factorial of 5 is 120\n"
     ]
    }
   ],
   "source": [
    "# Factorial Program Using For Loop.\n",
    "n = int(input(\"Enter the number:\"))\n",
    "result = 1                 # final result will be stored here.\n",
    "for i in range(n,0,-1):    # (start,end,step)\n",
    "    result = result * i\n",
    "print(\"factorial of\",n,\"is\",result)"
   ]
  },
  {
   "cell_type": "code",
   "execution_count": 5,
   "metadata": {},
   "outputs": [
    {
     "name": "stdout",
     "output_type": "stream",
     "text": [
      "Enter the no. : 5\n"
     ]
    },
    {
     "data": {
      "text/plain": [
       "120"
      ]
     },
     "execution_count": 5,
     "metadata": {},
     "output_type": "execute_result"
    }
   ],
   "source": [
    "def fact(n):\n",
    "    if n == 0:\n",
    "        return 1\n",
    "    else:\n",
    "        return n * fact(n-1)\n",
    "n = int(input(\"Enter the no. : \"))\n",
    "fact(n)"
   ]
  },
  {
   "cell_type": "code",
   "execution_count": 2,
   "metadata": {},
   "outputs": [
    {
     "name": "stdout",
     "output_type": "stream",
     "text": [
      "Enter the lower integer:3\n",
      "Enter the upper integer:10\n",
      "3\n",
      "5\n",
      "7\n"
     ]
    }
   ],
   "source": [
    "# Program For Prime Numbers.\n",
    "lower = int(input(\"Enter the lower integer:\"))\n",
    "upper = int(input(\"Enter the upper integer:\"))\n",
    "for num in range(lower,upper+1):\n",
    "    if num > 1:\n",
    "        for i in range(2,num):\n",
    "            if (num % i) == 0:\n",
    "                break\n",
    "        else:\n",
    "            print(num)"
   ]
  },
  {
   "cell_type": "code",
   "execution_count": 3,
   "metadata": {},
   "outputs": [
    {
     "name": "stdout",
     "output_type": "stream",
     "text": [
      "Enter the number to check if number is Prime or Not:13\n",
      "13 Entered number is Prime\n"
     ]
    }
   ],
   "source": [
    "# Program to check entered Number is Prime or Not.\n",
    "num = int(input(\"Enter the number to check if number is Prime or Not:\"))\n",
    "if num > 1:\n",
    "    for i in range(2,num):\n",
    "        if (num % i) == 0:\n",
    "            print(num,\"Entered number is Not Prime\")\n",
    "            break\n",
    "    else:\n",
    "        print(num,\"Entered number is Prime\")\n",
    "else:\n",
    "    print(\"Please enter number greater than 1\")"
   ]
  },
  {
   "cell_type": "code",
   "execution_count": 4,
   "metadata": {},
   "outputs": [
    {
     "name": "stdout",
     "output_type": "stream",
     "text": [
      "0\n",
      "1\n",
      "2\n",
      "3\n",
      "4\n",
      "5\n",
      "6\n",
      "7\n",
      "8\n",
      "9\n",
      "153\n",
      "370\n",
      "371\n",
      "407\n"
     ]
    }
   ],
   "source": [
    "# Armstrong Numbers.\n",
    "for i in range(1001):\n",
    "    num = i\n",
    "    result = 0\n",
    "    n = len(str(i))\n",
    "    while(i != 0):\n",
    "        digit = i % 10\n",
    "        result = result + digit ** n\n",
    "        i = i//10\n",
    "    if num == result:\n",
    "        print(num)"
   ]
  },
  {
   "cell_type": "code",
   "execution_count": 2,
   "metadata": {},
   "outputs": [
    {
     "name": "stdout",
     "output_type": "stream",
     "text": [
      "Enter the lower limit1\n",
      "Enter the upper limit10\n",
      "6\n"
     ]
    }
   ],
   "source": [
    "# To Find Perfect Number In Given Interval.\n",
    "lower = int(input(\"Enter the lower limit\"))\n",
    "upper = int(input(\"Enter the upper limit\"))\n",
    "for num in range(lower,upper+1):\n",
    "    result = 0\n",
    "    for i in range(1,num):\n",
    "        if (num % i) == 0:\n",
    "            result = result + i\n",
    "    if num == result:\n",
    "        print(num)"
   ]
  },
  {
   "cell_type": "code",
   "execution_count": 8,
   "metadata": {},
   "outputs": [
    {
     "name": "stdout",
     "output_type": "stream",
     "text": [
      "Enter the number:10\n",
      "10 is not a Perfect Number\n"
     ]
    }
   ],
   "source": [
    "# To Check Given Number Is Perfect Number Or Not.\n",
    "num = int(input(\"Enter the number:\"))\n",
    "result = 0\n",
    "for i in range(1,num):\n",
    "    if (num % i) == 0:\n",
    "        result = result + i\n",
    "if num == result:\n",
    "    print(num,'is a Perfect Number')\n",
    "else:\n",
    "    print(num,'is not a Perfect Number')"
   ]
  },
  {
   "cell_type": "code",
   "execution_count": 9,
   "metadata": {},
   "outputs": [
    {
     "name": "stdout",
     "output_type": "stream",
     "text": [
      "Enter the First Number10\n",
      "enter the Second Number5\n",
      "10 is the LCM \n"
     ]
    }
   ],
   "source": [
    "# Finding LCM of 2 Numbers.\n",
    "lower = int(input(\"Enter the First Number\"))\n",
    "upper = int(input(\"enter the Second Number\"))\n",
    "i=1\n",
    "while (i > 0):\n",
    "    if ((i % lower==0) and (i % upper==0)):\n",
    "        print(i,'is the LCM ')\n",
    "        break\n",
    "    i=i+1"
   ]
  },
  {
   "cell_type": "code",
   "execution_count": 1,
   "metadata": {},
   "outputs": [
    {
     "name": "stdout",
     "output_type": "stream",
     "text": [
      "Enter the number5\n",
      "Enter the number10\n",
      "5\n"
     ]
    }
   ],
   "source": [
    "# Finding GCD of 2 Numbers.\n",
    "def ComputeGCD(a,b):\n",
    "    if b == 0:\n",
    "        return a\n",
    "    else:\n",
    "        return ComputeGCD(b,a % b)\n",
    "    \n",
    "num1 = int(input(\"Enter the number\"))\n",
    "num2 = int(input(\"Enter the number\"))\n",
    "print(ComputeGCD(num1,num2))"
   ]
  },
  {
   "cell_type": "code",
   "execution_count": 8,
   "metadata": {},
   "outputs": [
    {
     "name": "stdout",
     "output_type": "stream",
     "text": [
      "Enter the string : mohit\n",
      "Not a pallindrome\n"
     ]
    }
   ],
   "source": [
    "# Pallindrome\n",
    "string = input(\"Enter the string : \")\n",
    "rev_str = string[::-1]\n",
    "if string == rev_str:\n",
    "    print(\"Is a pallindrone\")\n",
    "else:\n",
    "    print(\"Not a pallindrome\")"
   ]
  },
  {
   "cell_type": "code",
   "execution_count": 11,
   "metadata": {},
   "outputs": [
    {
     "name": "stdout",
     "output_type": "stream",
     "text": [
      "Enter the string : mohit\n",
      "tihom\n"
     ]
    }
   ],
   "source": [
    "# Reverse a string\n",
    "string = input(\"Enter the string : \")\n",
    "rev_str = \"\"\n",
    "for i in string:\n",
    "    rev_str = i+rev_str\n",
    "print(rev_str)"
   ]
  },
  {
   "cell_type": "code",
   "execution_count": 12,
   "metadata": {},
   "outputs": [
    {
     "name": "stdout",
     "output_type": "stream",
     "text": [
      "Enter a number: 5\n",
      "This is an odd number.\n"
     ]
    }
   ],
   "source": [
    "# Odd or Even\n",
    "num = int(input(\"Enter a number: \"))\n",
    "mod = num % 2\n",
    "if mod > 0:\n",
    "    print(\"This is an odd number.\")\n",
    "else:\n",
    "    print(\"This is an even number.\")"
   ]
  },
  {
   "cell_type": "code",
   "execution_count": 6,
   "metadata": {},
   "outputs": [
    {
     "name": "stdout",
     "output_type": "stream",
     "text": [
      "Enter the number of rows5\n",
      "* \n",
      "* * \n",
      "* * * \n",
      "* * * * \n",
      "* * * * * \n"
     ]
    }
   ],
   "source": [
    "# printing * in Right Angle\n",
    "num = int(input(\"Enter the number of rows\"))\n",
    "for i in range(1,num+1):\n",
    "    for j in range(1,i+1):\n",
    "        print('*',end=\" \")\n",
    "    print()    "
   ]
  },
  {
   "cell_type": "code",
   "execution_count": 9,
   "metadata": {},
   "outputs": [
    {
     "name": "stdout",
     "output_type": "stream",
     "text": [
      "Enter the number of rows3\n",
      "* \n",
      "* * * \n",
      "* * * * * \n"
     ]
    }
   ],
   "source": [
    "# printing * in Right Angle\n",
    "num = int(input(\"Enter the number of rows\"))\n",
    "k = 1\n",
    "for i in range(1,num+1):\n",
    "    for k in range(1,k+1):\n",
    "        print('*',end=\" \")\n",
    "    k = k + 2\n",
    "    print() "
   ]
  },
  {
   "cell_type": "code",
   "execution_count": 19,
   "metadata": {},
   "outputs": [
    {
     "name": "stdout",
     "output_type": "stream",
     "text": [
      "Enter the number of rows5\n",
      "    * \n",
      "   * * \n",
      "  * * * \n",
      " * * * * \n",
      "* * * * * \n"
     ]
    }
   ],
   "source": [
    "# printing * in Pyramind Shape\n",
    "num = int(input(\"Enter the number of rows\"))\n",
    "for i in range(0,num):\n",
    "    for j in range(0,num-i-1):\n",
    "        print(end = \" \")\n",
    "    for j in range(0,i+1):\n",
    "        print(\"*\",end = \" \")\n",
    "    print()"
   ]
  },
  {
   "cell_type": "code",
   "execution_count": 20,
   "metadata": {},
   "outputs": [
    {
     "name": "stdout",
     "output_type": "stream",
     "text": [
      "Enter the number of rows5\n",
      "    *\n",
      "   ***\n",
      "  *****\n",
      " *******\n",
      "*********\n"
     ]
    }
   ],
   "source": [
    "num = int(input(\"Enter the number of rows\"))\n",
    "for i in range(0,num):\n",
    "    for j in range(0,num-i-1):\n",
    "        print(end = \" \")\n",
    "    for j in range(0,2*i+1):\n",
    "        print(\"*\",end = \"\")\n",
    "    print()"
   ]
  },
  {
   "cell_type": "code",
   "execution_count": 26,
   "metadata": {},
   "outputs": [],
   "source": [
    "# create function to Print * Pyramid Shape\n",
    "def pyramid(rows):\n",
    "    for i in range (rows):\n",
    "        print(' '*(rows-i-1)+'*'*(2*i + 1))"
   ]
  },
  {
   "cell_type": "code",
   "execution_count": 28,
   "metadata": {},
   "outputs": [
    {
     "name": "stdout",
     "output_type": "stream",
     "text": [
      "    *\n",
      "   ***\n",
      "  *****\n",
      " *******\n",
      "*********\n"
     ]
    }
   ],
   "source": [
    "pyramid(5)"
   ]
  },
  {
   "cell_type": "code",
   "execution_count": 46,
   "metadata": {},
   "outputs": [
    {
     "name": "stdout",
     "output_type": "stream",
     "text": [
      "Enter the number of rows5\n",
      "* * * * * \n",
      " * * * * \n",
      "  * * * \n",
      "   * * \n",
      "    * \n"
     ]
    }
   ],
   "source": [
    "# printing * in reverse Pyramid Shape\n",
    "num = int(input(\"Enter the number of rows\"))\n",
    "for i in range (num,0,-1):\n",
    "    for j in range(0,num-i):\n",
    "        print(end=\" \")\n",
    "    for j in range(0,i):\n",
    "        print(\"*\",end=\" \")\n",
    "    print()"
   ]
  },
  {
   "cell_type": "code",
   "execution_count": 3,
   "metadata": {},
   "outputs": [
    {
     "name": "stdout",
     "output_type": "stream",
     "text": [
      "0\n",
      "1\n",
      "2\n",
      "3\n",
      "4\n",
      "5\n",
      "6\n",
      "7\n",
      "8\n",
      "9\n",
      "153\n",
      "370\n",
      "371\n",
      "407\n"
     ]
    }
   ],
   "source": [
    "# Armstrong Numbers\n",
    "for i in range(0,1001):\n",
    "    num = i\n",
    "    result = 0\n",
    "    n = len(str(num))\n",
    "    while(i!=0):\n",
    "        digit = i % 10\n",
    "        result = result + digit ** n\n",
    "        i = i // 10\n",
    "    if num == result:\n",
    "        print(result)"
   ]
  },
  {
   "cell_type": "code",
   "execution_count": 1,
   "metadata": {},
   "outputs": [
    {
     "name": "stdout",
     "output_type": "stream",
     "text": [
      "Enter the numbers uh want in series : 10\n",
      "0\n",
      "1\n",
      "1\n",
      "2\n",
      "3\n",
      "5\n",
      "8\n",
      "13\n",
      "21\n",
      "34\n"
     ]
    }
   ],
   "source": [
    "# Fibonacci Series\n",
    "num = int(input(\"Enter the numbers uh want in series : \"))\n",
    "first = 0\n",
    "second = 1\n",
    "for num in range (0,num):\n",
    "    print(first)\n",
    "    temp = first\n",
    "    first = second\n",
    "    second = second + temp"
   ]
  },
  {
   "cell_type": "code",
   "execution_count": 2,
   "metadata": {},
   "outputs": [
    {
     "name": "stdout",
     "output_type": "stream",
     "text": [
      "Enter the number : 5\n"
     ]
    },
    {
     "data": {
      "text/plain": [
       "120"
      ]
     },
     "execution_count": 2,
     "metadata": {},
     "output_type": "execute_result"
    }
   ],
   "source": [
    "# Factorial\n",
    "def fact(n):\n",
    "    if n == 0:\n",
    "        return 1\n",
    "    else:\n",
    "        return n * fact(n-1)\n",
    "n = int(input(\"Enter the number : \"))\n",
    "fact(n)"
   ]
  },
  {
   "cell_type": "code",
   "execution_count": 4,
   "metadata": {},
   "outputs": [
    {
     "name": "stdout",
     "output_type": "stream",
     "text": [
      "Enter the first no. : 5\n",
      "Enter the second no. : 10\n",
      "5\n"
     ]
    }
   ],
   "source": [
    "# GCD/HCF\n",
    "def gcd(a,b):\n",
    "    if b == 0:\n",
    "        return a\n",
    "    else:\n",
    "        return gcd(b,a%b)\n",
    "n1 = int(input(\"Enter the first no. : \"))\n",
    "n2 = int(input(\"Enter the second no. : \"))\n",
    "result = gcd(n1,n2)\n",
    "print(result)"
   ]
  },
  {
   "cell_type": "code",
   "execution_count": 9,
   "metadata": {},
   "outputs": [
    {
     "name": "stdout",
     "output_type": "stream",
     "text": [
      "Enter the first no. : 10\n",
      "Enter the second no. : 5\n",
      "10 is the LCM\n"
     ]
    }
   ],
   "source": [
    "# LCM\n",
    "n1 = int(input(\"Enter the first no. : \"))\n",
    "n2 = int(input(\"Enter the second no. : \"))\n",
    "i = 1\n",
    "while(i>0):\n",
    "    if ((i%n1==0) and (i%n2==0)):\n",
    "        print(i,\"is the LCM\")\n",
    "        break\n",
    "    i = i+1"
   ]
  },
  {
   "cell_type": "code",
   "execution_count": 11,
   "metadata": {
    "scrolled": true
   },
   "outputs": [
    {
     "name": "stdout",
     "output_type": "stream",
     "text": [
      "Enter the first no. : 1\n",
      "Enter the second no. : 100\n",
      "2\n",
      "3\n",
      "5\n",
      "7\n",
      "11\n",
      "13\n",
      "17\n",
      "19\n",
      "23\n",
      "29\n",
      "31\n",
      "37\n",
      "41\n",
      "43\n",
      "47\n",
      "53\n",
      "59\n",
      "61\n",
      "67\n",
      "71\n",
      "73\n",
      "79\n",
      "83\n",
      "89\n",
      "97\n"
     ]
    }
   ],
   "source": [
    "# Prime Number\n",
    "n1 = int(input(\"Enter the first no. : \"))\n",
    "n2 = int(input(\"Enter the second no. : \"))\n",
    "for num in range(n1,n2+1):\n",
    "    if num>1:\n",
    "        for i in range(2,num):\n",
    "            if num%i==0:\n",
    "                break\n",
    "        else:\n",
    "            print(num)"
   ]
  },
  {
   "cell_type": "code",
   "execution_count": 15,
   "metadata": {},
   "outputs": [
    {
     "name": "stdout",
     "output_type": "stream",
     "text": [
      "Enter the no. : 5\n",
      "It is Prime Number\n"
     ]
    }
   ],
   "source": [
    "num = int(input(\"Enter the no. : \"))\n",
    "if num>1:\n",
    "    for i in range(2,num):\n",
    "        if num%i==0:\n",
    "            print(\"Not Prime Number\")\n",
    "            break\n",
    "    else:\n",
    "        print(\"It is Prime Number\")\n",
    "else:\n",
    "    print(\"Enter no. greater than 1\")"
   ]
  },
  {
   "cell_type": "code",
   "execution_count": 17,
   "metadata": {},
   "outputs": [
    {
     "name": "stdout",
     "output_type": "stream",
     "text": [
      "Enter the first no. : 1\n",
      "Enter the second no. : 100\n",
      "6\n",
      "28\n"
     ]
    }
   ],
   "source": [
    "# Perfect Number\n",
    "n1 = int(input(\"Enter the first no. : \"))\n",
    "n2 = int(input(\"Enter the second no. : \"))\n",
    "for num in range(n1,n2+1):\n",
    "    result = 0\n",
    "    for i in range(1,num):\n",
    "        if num%i==0:\n",
    "            result = result + i\n",
    "    if num == result:\n",
    "        print(result)"
   ]
  },
  {
   "cell_type": "code",
   "execution_count": 20,
   "metadata": {},
   "outputs": [
    {
     "name": "stdout",
     "output_type": "stream",
     "text": [
      "Enter the no. : 6\n",
      "6 is a perfect number\n"
     ]
    }
   ],
   "source": [
    "num = int(input(\"Enter the no. : \"))\n",
    "result=0\n",
    "for i in range(1,num):\n",
    "    if num%i==0:\n",
    "        result=result+i\n",
    "if num == result:\n",
    "    print(num,\"is a perfect number\")\n",
    "else:\n",
    "    print(num,\"not a perfect number\")"
   ]
  },
  {
   "cell_type": "code",
   "execution_count": 22,
   "metadata": {},
   "outputs": [
    {
     "name": "stdout",
     "output_type": "stream",
     "text": [
      "1\n",
      "2\n",
      "3\n",
      "4\n",
      "5\n",
      "6\n",
      "7\n",
      "8\n",
      "9\n",
      "153\n",
      "370\n",
      "371\n",
      "407\n"
     ]
    }
   ],
   "source": [
    "# Armstrong Number\n",
    "for i in range(1,1001):\n",
    "    num = i\n",
    "    result = 0\n",
    "    n = len(str(num))\n",
    "    while(i != 0):\n",
    "        digit = i % 10\n",
    "        result = result + digit ** n\n",
    "        i = i // 10\n",
    "    if num == result:\n",
    "        print(num)"
   ]
  },
  {
   "cell_type": "code",
   "execution_count": 27,
   "metadata": {},
   "outputs": [
    {
     "name": "stdout",
     "output_type": "stream",
     "text": [
      "Enter the no. uh want in series : 10\n",
      "0\n",
      "1\n",
      "1\n",
      "2\n",
      "3\n",
      "5\n",
      "8\n",
      "13\n",
      "21\n",
      "34\n"
     ]
    }
   ],
   "source": [
    "# Fibbonaci Series\n",
    "first = 0\n",
    "second = 1\n",
    "n = int(input(\"Enter the no. uh want in series : \"))\n",
    "for i in range(0,n):\n",
    "    print(first)\n",
    "    temp = first\n",
    "    first = second\n",
    "    second = second + temp"
   ]
  },
  {
   "cell_type": "code",
   "execution_count": 28,
   "metadata": {},
   "outputs": [
    {
     "name": "stdout",
     "output_type": "stream",
     "text": [
      "Enter the no. : 4\n"
     ]
    },
    {
     "data": {
      "text/plain": [
       "24"
      ]
     },
     "execution_count": 28,
     "metadata": {},
     "output_type": "execute_result"
    }
   ],
   "source": [
    "# Factorial\n",
    "n = int(input(\"Enter the no. : \"))\n",
    "def fact(n):\n",
    "    if n == 0:\n",
    "        return 1\n",
    "    else:\n",
    "        return n * fact(n-1)\n",
    "fact(n)"
   ]
  },
  {
   "cell_type": "code",
   "execution_count": 29,
   "metadata": {},
   "outputs": [
    {
     "name": "stdout",
     "output_type": "stream",
     "text": [
      "Enter the no. : 10\n",
      "Enter the no. : 5\n",
      "10 is the LCM\n"
     ]
    }
   ],
   "source": [
    "# LCM\n",
    "lower = int(input(\"Enter the no. : \"))\n",
    "upper = int(input(\"Enter the no. : \"))\n",
    "i = 1\n",
    "while(i>0):\n",
    "    if((i%lower==0) and (i%upper==0)):\n",
    "        print(i,\"is the LCM\")\n",
    "        break\n",
    "    i = i + 1"
   ]
  },
  {
   "cell_type": "code",
   "execution_count": 31,
   "metadata": {},
   "outputs": [
    {
     "name": "stdout",
     "output_type": "stream",
     "text": [
      "Enter the no. : 5\n",
      "Enter the no. : 10\n",
      "5 is the GCD\n"
     ]
    }
   ],
   "source": [
    "# GCD\n",
    "lower = int(input(\"Enter the no. : \"))\n",
    "upper = int(input(\"Enter the no. : \"))\n",
    "def gcd(a,b):\n",
    "    if b == 0:\n",
    "        return a\n",
    "    else:\n",
    "        return gcd(b,a%b)\n",
    "result = gcd(lower,upper)\n",
    "print(result,\"is the GCD\")"
   ]
  },
  {
   "cell_type": "code",
   "execution_count": 38,
   "metadata": {},
   "outputs": [
    {
     "name": "stdout",
     "output_type": "stream",
     "text": [
      "Enter the no. : 0\n",
      "Enter the no. : 50\n",
      "2\n",
      "3\n",
      "5\n",
      "7\n",
      "11\n",
      "13\n",
      "17\n",
      "19\n",
      "23\n",
      "29\n",
      "31\n",
      "37\n",
      "41\n",
      "43\n",
      "47\n"
     ]
    }
   ],
   "source": [
    "# Prime Number\n",
    "n1 = int(input(\"Enter the no. : \"))\n",
    "n2 = int(input(\"Enter the no. : \"))\n",
    "for num in range(n1,n2+1):\n",
    "    if num>1:\n",
    "        for i in range(2,num):\n",
    "            if num%i==0:\n",
    "                break\n",
    "        else:\n",
    "            print(num)"
   ]
  },
  {
   "cell_type": "code",
   "execution_count": 50,
   "metadata": {},
   "outputs": [
    {
     "name": "stdout",
     "output_type": "stream",
     "text": [
      "Enter the no. : 97\n",
      "97 is a Prime no.\n"
     ]
    }
   ],
   "source": [
    "num = int(input(\"Enter the no. : \"))\n",
    "if num>1:\n",
    "    for i in range(2,num):\n",
    "        if num%i==0:\n",
    "            print(num,\"not a Prime no.\")\n",
    "            break\n",
    "    else:\n",
    "        print(num,\"is a Prime no.\")\n",
    "else:\n",
    "    print(num,\"no. should be greater than 1.\")"
   ]
  },
  {
   "cell_type": "code",
   "execution_count": 53,
   "metadata": {},
   "outputs": [
    {
     "name": "stdout",
     "output_type": "stream",
     "text": [
      "Enter the no. : 1\n",
      "Enter the no. : 50\n",
      "6\n",
      "28\n"
     ]
    }
   ],
   "source": [
    "# Perfect Number\n",
    "n1 = int(input(\"Enter the no. : \"))\n",
    "n2 = int(input(\"Enter the no. : \"))\n",
    "for num in range(n1,n2+1):\n",
    "    result = 0\n",
    "    for i in range(1,num):\n",
    "        if num%i==0:\n",
    "            result = result + i\n",
    "    if num==result:\n",
    "        print(num)"
   ]
  },
  {
   "cell_type": "code",
   "execution_count": 57,
   "metadata": {},
   "outputs": [
    {
     "name": "stdout",
     "output_type": "stream",
     "text": [
      "Enter the no. : 6\n",
      "6 is a Perfect no.\n"
     ]
    }
   ],
   "source": [
    "num = int(input(\"Enter the no. : \"))\n",
    "result = 0\n",
    "for i in range(1,num):\n",
    "    if num%i == 0:\n",
    "        result = result + i\n",
    "if num == result:\n",
    "    print(num,\"is a Perfect no.\")\n",
    "else:\n",
    "    print(num,\"not a Perfect no.\")"
   ]
  },
  {
   "cell_type": "code",
   "execution_count": 59,
   "metadata": {},
   "outputs": [
    {
     "name": "stdout",
     "output_type": "stream",
     "text": [
      "Enter the word : 1221\n",
      "It is a Pallindrome.\n"
     ]
    }
   ],
   "source": [
    "# Pallindrome\n",
    "string = input(\"Enter the word : \")\n",
    "rev_str = string[::-1]\n",
    "if string == rev_str:\n",
    "    print(\"It is a Pallindrome.\")\n",
    "else:\n",
    "    print(\"Not a Pallindrome\")"
   ]
  },
  {
   "cell_type": "code",
   "execution_count": 1,
   "metadata": {},
   "outputs": [
    {
     "name": "stdout",
     "output_type": "stream",
     "text": [
      "Enter the word : mohit\n",
      "tihom\n"
     ]
    }
   ],
   "source": [
    "# Reverse a string\n",
    "string = input(\"Enter the word : \")\n",
    "rev_str = \"\"\n",
    "for i in string:\n",
    "    rev_str = i + rev_str\n",
    "print(rev_str)"
   ]
  },
  {
   "cell_type": "code",
   "execution_count": 6,
   "metadata": {},
   "outputs": [
    {
     "name": "stdout",
     "output_type": "stream",
     "text": [
      "Enter the no. : 17\n",
      "17 is prime\n"
     ]
    }
   ],
   "source": [
    "# Prime Number\n",
    "num = int(input(\"Enter the no. : \"))\n",
    "if num > 1:\n",
    "    for i in range(2,num):\n",
    "        if num%i==0:\n",
    "            print(num,\"not prime\")\n",
    "            break\n",
    "    else:\n",
    "        print(num,\"is prime\")\n",
    "else:\n",
    "    print(num,\"should be greater then 1\")"
   ]
  },
  {
   "cell_type": "code",
   "execution_count": 10,
   "metadata": {},
   "outputs": [
    {
     "name": "stdout",
     "output_type": "stream",
     "text": [
      "Enter the no. : 28\n",
      "28 is perfect\n"
     ]
    }
   ],
   "source": [
    "# Perfect Number\n",
    "num = int(input(\"Enter the no. : \"))\n",
    "result = 0\n",
    "for i in range(1,num):\n",
    "    if num%i == 0:\n",
    "        result = result + i\n",
    "if num==result:\n",
    "    print(num,\"is perfect\")\n",
    "else:\n",
    "    print(num,\"not perfect\")"
   ]
  },
  {
   "cell_type": "code",
   "execution_count": null,
   "metadata": {},
   "outputs": [],
   "source": []
  }
 ],
 "metadata": {
  "kernelspec": {
   "display_name": "Python 3",
   "language": "python",
   "name": "python3"
  },
  "language_info": {
   "codemirror_mode": {
    "name": "ipython",
    "version": 3
   },
   "file_extension": ".py",
   "mimetype": "text/x-python",
   "name": "python",
   "nbconvert_exporter": "python",
   "pygments_lexer": "ipython3",
   "version": "3.6.4"
  }
 },
 "nbformat": 4,
 "nbformat_minor": 2
}
